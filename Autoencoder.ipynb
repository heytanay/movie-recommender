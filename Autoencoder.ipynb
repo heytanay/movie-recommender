{
 "cells": [
  {
   "cell_type": "code",
   "execution_count": 3,
   "metadata": {},
   "outputs": [],
   "source": [
    "import torch\n",
    "import torch.nn as nn\n",
    "import torch.nn.parallel\n",
    "import torch.optim as optim\n",
    "import torch.utils.data\n",
    "from torch.autograd import Variable\n",
    "import numpy as np\n",
    "import pandas as pd\n",
    "import matplotlib.pyplot as plt"
   ]
  },
  {
   "cell_type": "code",
   "execution_count": 6,
   "metadata": {},
   "outputs": [],
   "source": [
    "# Dataset (1 Million Ratings)\n",
    "# This dataset isn't used to train on low-end devices.\n",
    "ratings = pd.read_csv(\"data/ml-1m/ratings.dat\", header=None, sep=\"::\", engine=\"python\", encoding=\"latin-1\")"
   ]
  },
  {
   "cell_type": "code",
   "execution_count": 8,
   "metadata": {},
   "outputs": [],
   "source": [
    "# Training Set (100,000 Ratings)\n",
    "# This One has less data points than the 1M one. \n",
    "# Training will be practical on low-end systems.\n",
    "training_set = pd.read_csv(\"data/ml-100k/u1.base\", delimiter='\\t')\n",
    "testing_set = pd.read_csv(\"data/ml-100k/u1.test\", delimiter='\\t')\n",
    "training_set = np.array(training_set, dtype='int')\n",
    "testing_set = np.array(testing_set, dtype='int')"
   ]
  },
  {
   "cell_type": "code",
   "execution_count": 10,
   "metadata": {},
   "outputs": [],
   "source": [
    "# Total Number of users and movies\n",
    "max_users = max(max(training_set[:,0]), max(testing_set[:,0]))\n",
    "max_movies = max(max(training_set[:,1]), max(testing_set[:,1]))"
   ]
  },
  {
   "cell_type": "code",
   "execution_count": 21,
   "metadata": {},
   "outputs": [],
   "source": [
    "# Convert data into right format\n",
    "def convert(data):\n",
    "    new_data = list()\n",
    "    for id_user in range(1, max_users + 1):\n",
    "        id_movies = training_set[training_set[:,0] == id_user][:,1]\n",
    "        id_ratings = training_set[training_set[:,0] == id_user][:,2]\n",
    "        ratings = np.zeros(max_movies)\n",
    "        ratings[id_movies - 1] = id_ratings\n",
    "        new_data.append(list(ratings))\n",
    "    return new_data"
   ]
  },
  {
   "cell_type": "code",
   "execution_count": 32,
   "metadata": {},
   "outputs": [],
   "source": [
    "train_set = convert(training_set)\n",
    "test_set = convert(testing_set)"
   ]
  },
  {
   "cell_type": "code",
   "execution_count": 36,
   "metadata": {},
   "outputs": [],
   "source": [
    "# Convert Data to torch tensors\n",
    "training_set = torch.FloatTensor(train_set)\n",
    "testing_set = torch.FloatTensor(test_set)"
   ]
  },
  {
   "cell_type": "code",
   "execution_count": 62,
   "metadata": {},
   "outputs": [],
   "source": [
    "class SAE(nn.Module):\n",
    "    \"\"\"\n",
    "    This Class contains the code for a Stacked AutoEncoder\n",
    "    It has 2 layers for Encoder and 2 for Decoder with\n",
    "    Latent Dimesion = 10\n",
    "    \"\"\"\n",
    "    def __init__(this):\n",
    "        super(SAE, this).__init__()\n",
    "        # Pssh: Looks like a Domino ;)\n",
    "        this.fc1 = nn.Linear(max_movies, 20)\n",
    "        this.fc2 = nn.Linear(20, 10)\n",
    "        this.fc3 = nn.Linear(10, 20)\n",
    "        this.fc4 = nn.Linear(20, max_movies)\n",
    "        this.activation = nn.Sigmoid()\n",
    "    def forward(this, x):\n",
    "        x = this.activation(this.fc1(x))\n",
    "        x = this.activation(this.fc2(x))\n",
    "        x = this.activation(this.fc3(x))\n",
    "        x = this.fc4(x)\n",
    "        return x"
   ]
  },
  {
   "cell_type": "code",
   "execution_count": 95,
   "metadata": {},
   "outputs": [],
   "source": [
    "# Instatiate the class and make the loss functions\n",
    "ae = SAE()\n",
    "loss_fn = nn.MSELoss()\n",
    "optimizer = optim.RMSprop(ae.parameters(), lr=1e-2, weight_decay=0.5)"
   ]
  },
  {
   "cell_type": "code",
   "execution_count": 97,
   "metadata": {},
   "outputs": [],
   "source": [
    "losses = []"
   ]
  },
  {
   "cell_type": "code",
   "execution_count": 105,
   "metadata": {},
   "outputs": [
    {
     "name": "stdout",
     "output_type": "stream",
     "text": [
      "Epoch: 10, Loss: 0.9305812120437622\n",
      "Epoch: 20, Loss: 0.9281207323074341\n",
      "Epoch: 30, Loss: 0.9250683188438416\n",
      "Epoch: 40, Loss: 0.9226075410842896\n",
      "Epoch: 50, Loss: 0.9208635091781616\n",
      "Epoch: 60, Loss: 0.9188658595085144\n",
      "Epoch: 70, Loss: 0.9169273972511292\n",
      "Epoch: 80, Loss: 0.9155253171920776\n",
      "Epoch: 90, Loss: 0.9138570427894592\n",
      "Epoch: 100, Loss: 0.9126209616661072\n"
     ]
    }
   ],
   "source": [
    "epochs = 100\n",
    "for epoch in range(1, epochs+1):\n",
    "    train_loss = 0\n",
    "    atleast_1_movie = 0.\n",
    "    for id_user in range(max_users):\n",
    "        # Adding a Fake dimension to input data (to fool PyTorch thinking it as batch)\n",
    "        current_input = Variable(training_set[id_user]).unsqueeze(0)\n",
    "        # Clone the current input as the ground truth (that's why we use AEs!)\n",
    "        y = current_input.clone()\n",
    "        \n",
    "        # Check if a user has rated atleast one movie to save memory\n",
    "        if torch.sum(y.data > 0) > 0:\n",
    "            y_hat = ae(current_input)\n",
    "            # Make sure you don't calculate grad wrt y\n",
    "            y.require_grad = False\n",
    "            # Set those values to 0 that don't have any ratings\n",
    "            y_hat[y == 0] = 0\n",
    "            # Calculate loss using Loss function\n",
    "            loss = loss_fn(y_hat, y)\n",
    "            # Calculate mean using only those movies that actually had a rating\n",
    "            # Also add a very small number to avoid potential Zero division error\n",
    "            mean_ = max_movies/float(torch.sum(y_hat.data > 0) + 1e-6)\n",
    "            # Backpropagate\n",
    "            loss.backward()\n",
    "            # Update the training loss\n",
    "            train_loss += np.sqrt(loss.data * mean_)\n",
    "            atleast_1_movie += 1\n",
    "            optimizer.step()\n",
    "            losses.append((train_loss/atleast_1_movie).data.tolist())\n",
    "    # Verbose every 10 epochs\n",
    "    if epoch % 10 == 0:\n",
    "        print(\"Epoch: {}, Loss: {}\".format(str(epoch), str((train_loss/atleast_1_movie).data.tolist())))"
   ]
  },
  {
   "cell_type": "code",
   "execution_count": 106,
   "metadata": {},
   "outputs": [
    {
     "data": {
      "text/plain": [
       "[<matplotlib.lines.Line2D at 0x2eabf45cd48>]"
      ]
     },
     "execution_count": 106,
     "metadata": {},
     "output_type": "execute_result"
    },
    {
     "data": {
      "image/png": "[encoded data removed]",
      "text/plain": [
       "<Figure size 432x288 with 1 Axes>"
      ]
     },
     "metadata": {
      "needs_background": "light"
     },
     "output_type": "display_data"
    }
   ],
   "source": [
    "plt.plot(losses)"
   ]
  },
  {
   "cell_type": "code",
   "execution_count": null,
   "metadata": {},
   "outputs": [],
   "source": []
  }
 ],
 "metadata": {
  "kernelspec": {
   "display_name": "Python 3",
   "language": "python",
   "name": "python3"
  },
  "language_info": {
   "codemirror_mode": {
    "name": "ipython",
    "version": 3
   },
   "file_extension": ".py",
   "mimetype": "text/x-python",
   "name": "python",
   "nbconvert_exporter": "python",
   "pygments_lexer": "ipython3",
   "version": "3.7.4"
  }
 },
 "nbformat": 4,
 "nbformat_minor": 4
}
